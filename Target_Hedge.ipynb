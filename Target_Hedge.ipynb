{
 "cells": [
  {
   "cell_type": "markdown",
   "id": "c1341f1c-2206-4fd6-b3c1-ac1847891386",
   "metadata": {},
   "source": [
    "# Target as a hedge against Tech? "
   ]
  },
  {
   "cell_type": "markdown",
   "id": "790646f7-58f8-49f4-9dad-ed9eb4de0f40",
   "metadata": {},
   "source": [
    "### Initial Hypothesis:\n",
    "\n",
    "***There exists a statistically significant inverse correlation between Target Corporation (TGT) stock and a broad selection of technology stocks, suggesting that TGT could serve as a potential hedge against volatility in the tech sector. This relationship, we believe, is driven by fundamental economic factors such as consumer spending trends, sector rotation, and macroeconomic conditions influencing retail and technology industries differently.***"
   ]
  },
  {
   "cell_type": "markdown",
   "id": "ee3b98b7-bcdd-4897-9e55-94182158dd43",
   "metadata": {},
   "source": [
    "### Step 1: Data Collection & Cleaning\n",
    "\n",
    "The first step in our quantitative research involves gathering relevant data. This ensures we have a robust and diverse dataset for statistical analysis and hypothesis testing. Key data sources include: \n",
    "\n",
    "1. **Target (TGT) Historical Stock Prices**\n",
    "\n",
    "* Provides insights into price trends and financial performance.\n",
    "* Helps identify patterns that could explain its inverse correlation with tech stocks.\n",
    "\n",
    "2. **MAG 7 (Microsoft, Apple, Google, Amazon, Meta, Nvidia, Tesla) ETF - Roundhill Magnificent Seven ETF (MAGS) Historical Stock Prices**\n",
    "* Since these companies dominate the tech sector, their price movements will be analyzed for correlation with TGT.\n",
    "\n",
    "3. **Macroeconomic Indicators (Inflation & Interest rates)**\n",
    "* Inflation (CPI from FRED): Measures the general price level, impacting consumer spending, retail performance, and tech sector valuations.\n",
    "* Interest Rates (Federal Funds Effective Rate from FRED): Measures the interest rate set by the Federal Reserve, which influences ability to borrow capital. "
   ]
  },
  {
   "cell_type": "code",
   "execution_count": 4,
   "id": "add9d600-7f51-4afe-b373-7a3ccba5516d",
   "metadata": {},
   "outputs": [],
   "source": [
    "import yfinance as yf\n",
    "import pandas as pd\n",
    "from fredapi import Fred\n",
    "import datetime"
   ]
  },
  {
   "cell_type": "code",
   "execution_count": 5,
   "id": "fdb5352d-9ac4-4733-9d9f-82718d7111db",
   "metadata": {},
   "outputs": [],
   "source": [
    "# Define start and end dates for the data collection\n",
    "start_date = \"2010-01-01\"\n",
    "end_date = \"2025-01-01\"\n",
    "\n",
    "# Ticker for Target\n",
    "ticker_tgt = \"TGT\"\n",
    "\n",
    "# List of the 'Magnificent 7' tickers:\n",
    "mag7_tickers = [\"MSFT\", \n",
    "                \"AAPL\",  \n",
    "                \"GOOGL\",\n",
    "                \"AMZN\",  \n",
    "                \"META\",\n",
    "                \"NVDA\", \n",
    "                \"TSLA\"] \n",
    "\n",
    "# FRED API Key (replace with your own)\n",
    "fred_api_key = \"1f24b0d933076747521b6bac2efb7a98\"\n",
    "\n",
    "# Macroeconomic indicators from FRED:\n",
    "cpi_series_id = \"CPIAUCSL\"\n",
    "interest_rate_series_id = \"FEDFUNDS\" "
   ]
  },
  {
   "cell_type": "code",
   "execution_count": 6,
   "id": "432e82a0-bad3-4e44-9698-28676618802f",
   "metadata": {},
   "outputs": [],
   "source": [
    "# Download Target (TGT) historical data\n",
    "tgt_data = yf.download(ticker_tgt, \n",
    "                       start=start_date, \n",
    "                       end=end_date,\n",
    "                       progress=False)"
   ]
  },
  {
   "cell_type": "code",
   "execution_count": 7,
   "id": "5cdcf882-1d72-4f3f-b638-671904a8614e",
   "metadata": {},
   "outputs": [],
   "source": [
    "# Create a dictionary to store individual DataFrames for each of the Mag 7\n",
    "mag7_data = {}\n",
    "\n",
    "# Loop through each ticker and download data\n",
    "for ticker in mag7_tickers:\n",
    "    data = yf.download(ticker,\n",
    "                       start=start_date, \n",
    "                       end=end_date,\n",
    "                       progress=False)\n",
    "    mag7_data[ticker] = data"
   ]
  },
  {
   "cell_type": "code",
   "execution_count": 8,
   "id": "0086602b-9528-4781-9946-f57fffec71fd",
   "metadata": {},
   "outputs": [],
   "source": [
    "fred = Fred(api_key=fred_api_key)\n",
    "\n",
    "# Fetch Inflation Data (CPI)\n",
    "cpi_data = fred.get_series(series_id=cpi_series_id, \n",
    "                           observation_start=start_date, \n",
    "                           observation_end=end_date)\n",
    "\n",
    "# Fetch Interest Rate Data (Federal Funds Rate)\n",
    "interest_rate_data = fred.get_series(series_id=interest_rate_series_id, \n",
    "                                     observation_start=start_date, \n",
    "                                     observation_end=end_date)\n",
    "\n",
    "\n",
    "# Convert CPI and interest rate data into DataFrames\n",
    "cpi_df = pd.DataFrame(cpi_data, columns=[\"CPI\"])\n",
    "cpi_df.index.name = \"Date\"\n",
    "\n",
    "interest_rate_df = pd.DataFrame(interest_rate_data, columns=[\"FedFundsRate\"])\n",
    "interest_rate_df.index.name = \"Date\""
   ]
  },
  {
   "cell_type": "code",
   "execution_count": 9,
   "id": "80dbb7b3-6942-4fd1-831e-c5619e3df672",
   "metadata": {},
   "outputs": [
    {
     "name": "stdout",
     "output_type": "stream",
     "text": [
      "TGT Data (head):\n",
      "Price           Close       High        Low       Open    Volume\n",
      "Ticker            TGT        TGT        TGT        TGT       TGT\n",
      "Date                                                            \n",
      "2010-01-04  32.633110  32.861643  32.532288  32.579339   4589100\n",
      "2010-01-05  32.754097  33.090174  32.438183  32.606222   4760100\n",
      "2010-01-06  33.379200  33.406087  32.659995  32.659995   7217400\n",
      "2010-01-07  33.789207  34.138728  33.419523  33.742157  12531000\n",
      "2010-01-08  33.654785  33.681672  33.325431  33.641342   6512800 \n",
      "\n",
      "Sample: MSFT Data (head):\n",
      "Price           Close       High        Low       Open    Volume\n",
      "Ticker           MSFT       MSFT       MSFT       MSFT      MSFT\n",
      "Date                                                            \n",
      "2010-01-04  23.300680  23.413607  23.029654  23.052240  38409100\n",
      "2010-01-05  23.308210  23.413610  23.067299  23.225398  49749600\n",
      "2010-01-06  23.165174  23.398557  22.976962  23.247987  58182400\n",
      "2010-01-07  22.924257  23.112470  22.728516  23.059769  50559700\n",
      "2010-01-08  23.082354  23.247980  22.766157  22.796272  51197400 \n",
      "\n",
      "CPI Data (head):\n",
      "                CPI\n",
      "Date               \n",
      "2010-01-01  217.488\n",
      "2010-02-01  217.281\n",
      "2010-03-01  217.353\n",
      "2010-04-01  217.403\n",
      "2010-05-01  217.290 \n",
      "\n",
      "Interest Rate Data (head):\n",
      "            FedFundsRate\n",
      "Date                    \n",
      "2010-01-01          0.11\n",
      "2010-02-01          0.13\n",
      "2010-03-01          0.16\n",
      "2010-04-01          0.20\n",
      "2010-05-01          0.20\n"
     ]
    }
   ],
   "source": [
    "# Example prints to confirm\n",
    "print(\"TGT Data (head):\")\n",
    "print(tgt_data.head(), \"\\n\")\n",
    "\n",
    "print(\"Sample: MSFT Data (head):\")\n",
    "print(mag7_data[\"MSFT\"].head(), \"\\n\")\n",
    "\n",
    "print(\"CPI Data (head):\")\n",
    "print(cpi_df.head(), \"\\n\")\n",
    "\n",
    "print(\"Interest Rate Data (head):\")\n",
    "print(interest_rate_df.head())"
   ]
  },
  {
   "cell_type": "code",
   "execution_count": null,
   "id": "2ac82137-4c57-4d05-a32e-a4709bb98888",
   "metadata": {},
   "outputs": [],
   "source": []
  }
 ],
 "metadata": {
  "kernelspec": {
   "display_name": "Python 3 (ipykernel)",
   "language": "python",
   "name": "python3"
  },
  "language_info": {
   "codemirror_mode": {
    "name": "ipython",
    "version": 3
   },
   "file_extension": ".py",
   "mimetype": "text/x-python",
   "name": "python",
   "nbconvert_exporter": "python",
   "pygments_lexer": "ipython3",
   "version": "3.12.7"
  }
 },
 "nbformat": 4,
 "nbformat_minor": 5
}
